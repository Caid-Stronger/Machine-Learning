{
 "cells": [
  {
   "cell_type": "code",
   "execution_count": 1,
   "id": "f9704619-852f-405e-9cac-3ea55d5f1bfd",
   "metadata": {},
   "outputs": [],
   "source": [
    "import torch"
   ]
  },
  {
   "cell_type": "code",
   "execution_count": 2,
   "id": "fefdc922-0b99-4bfe-b2f6-515ef9f1bb89",
   "metadata": {},
   "outputs": [],
   "source": [
    "x=torch.tensor([0,1,2,3])"
   ]
  },
  {
   "cell_type": "code",
   "execution_count": 3,
   "id": "f87f72c8-2d6e-4671-87a8-d13ef42a760b",
   "metadata": {},
   "outputs": [
    {
     "data": {
      "text/plain": [
       "tensor([0, 1, 2, 3])"
      ]
     },
     "execution_count": 3,
     "metadata": {},
     "output_type": "execute_result"
    }
   ],
   "source": [
    "x"
   ]
  },
  {
   "cell_type": "code",
   "execution_count": 5,
   "id": "17894ffc-7b55-415b-844d-7400aaa1f6bd",
   "metadata": {},
   "outputs": [],
   "source": [
    "y=x * x"
   ]
  },
  {
   "cell_type": "code",
   "execution_count": 6,
   "id": "560f5e2a-dd0c-43b2-af2f-8796acb7c5f1",
   "metadata": {},
   "outputs": [
    {
     "data": {
      "text/plain": [
       "tensor(14)"
      ]
     },
     "execution_count": 6,
     "metadata": {},
     "output_type": "execute_result"
    }
   ],
   "source": [
    "y.sum()"
   ]
  },
  {
   "cell_type": "code",
   "execution_count": null,
   "id": "deb7a8ed-9169-4ffa-a64b-f32d35603c50",
   "metadata": {},
   "outputs": [],
   "source": []
  }
 ],
 "metadata": {
  "kernelspec": {
   "display_name": "Python 3 (ipykernel)",
   "language": "python",
   "name": "python3"
  },
  "language_info": {
   "codemirror_mode": {
    "name": "ipython",
    "version": 3
   },
   "file_extension": ".py",
   "mimetype": "text/x-python",
   "name": "python",
   "nbconvert_exporter": "python",
   "pygments_lexer": "ipython3",
   "version": "3.12.4"
  }
 },
 "nbformat": 4,
 "nbformat_minor": 5
}
