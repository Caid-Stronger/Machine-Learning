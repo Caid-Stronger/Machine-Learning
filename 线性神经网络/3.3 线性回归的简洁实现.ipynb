{
 "cells": [
  {
   "cell_type": "code",
   "execution_count": 1,
   "id": "fd850c34-0a8c-42ee-9779-3bf9221dc019",
   "metadata": {},
   "outputs": [],
   "source": [
    "import numpy as np\n",
    "import torch\n",
    "from torch.utils import data\n",
    "from d2l import torch as d2l"
   ]
  },
  {
   "cell_type": "code",
   "execution_count": 2,
   "id": "18d5034d-86aa-41f7-ab55-55423f745459",
   "metadata": {},
   "outputs": [],
   "source": [
    "true_w = torch.tensor([2, -3.4])\n",
    "true_b = 4.2\n",
    "features, labels = d2l.synthetic_data(true_w, true_b, 1000)"
   ]
  },
  {
   "cell_type": "markdown",
   "id": "563884fa-f9d9-4a44-9a12-f6013cd1cad6",
   "metadata": {},
   "source": [
    "## 读取数据集"
   ]
  },
  {
   "cell_type": "code",
   "execution_count": 3,
   "id": "8a020530-5e61-4202-887f-36594e48bd5c",
   "metadata": {},
   "outputs": [],
   "source": [
    "def load_array(data_arrays, batchsize, is_train=True): \n",
    "    '''构造数据迭代器''' \n",
    "    dataset=data.TensorDataset(*data_arrays) \n",
    "    return data.DataLoader(dataset, batchsize, shuffle=is_train) \n",
    "\n",
    "batchsize=10 \n",
    "data_iter=load_array((features, labels), batchsize)"
   ]
  },
  {
   "cell_type": "code",
   "execution_count": 4,
   "id": "5bbfa53b-7a14-47bf-aa8d-3f168c56f65d",
   "metadata": {},
   "outputs": [
    {
     "data": {
      "text/plain": [
       "[tensor([[ 0.3053, -0.7242],\n",
       "         [ 1.4436, -0.6674],\n",
       "         [ 0.1895, -0.6411],\n",
       "         [ 0.6778, -0.2411],\n",
       "         [-0.3273, -0.0031],\n",
       "         [ 0.3363,  0.1663],\n",
       "         [-0.2532, -0.7325],\n",
       "         [-0.7499, -0.1686],\n",
       "         [ 1.5477,  0.7326],\n",
       "         [-0.2386, -1.4019]]),\n",
       " tensor([[7.2657],\n",
       "         [9.3494],\n",
       "         [6.7542],\n",
       "         [6.3830],\n",
       "         [3.5404],\n",
       "         [4.3147],\n",
       "         [6.1704],\n",
       "         [3.2640],\n",
       "         [4.7908],\n",
       "         [8.4853]])]"
      ]
     },
     "execution_count": 4,
     "metadata": {},
     "output_type": "execute_result"
    }
   ],
   "source": [
    "next(iter(data_iter))"
   ]
  },
  {
   "cell_type": "markdown",
   "id": "f51cc63a-2cfb-4a39-be8e-7bae7eff0e05",
   "metadata": {},
   "source": [
    "## 定义模型"
   ]
  },
  {
   "cell_type": "code",
   "execution_count": 5,
   "id": "99c5457f-7bb4-4e7e-8720-d851ef803a64",
   "metadata": {},
   "outputs": [],
   "source": [
    "from torch import nn\n",
    "\n",
    "net=nn.Sequential(nn.Linear(2,1))"
   ]
  },
  {
   "cell_type": "markdown",
   "id": "ab242662-d8dc-4bc4-a0ad-9e004284d635",
   "metadata": {},
   "source": [
    "## 初始化模型参数"
   ]
  },
  {
   "cell_type": "code",
   "execution_count": 6,
   "id": "896dcf19-f755-4243-b014-78574a677601",
   "metadata": {},
   "outputs": [
    {
     "data": {
      "text/plain": [
       "tensor([0.])"
      ]
     },
     "execution_count": 6,
     "metadata": {},
     "output_type": "execute_result"
    }
   ],
   "source": [
    "net[0].weight.data.normal_(0, 0.01) \n",
    "net[0].bias.data.fill_(0)"
   ]
  },
  {
   "cell_type": "markdown",
   "id": "746e54f9-328e-4359-89b7-61c42a2f1a64",
   "metadata": {},
   "source": [
    "## 定义损失函数"
   ]
  },
  {
   "cell_type": "code",
   "execution_count": 7,
   "id": "8ae36317-3a23-44cd-b889-4582c351dff6",
   "metadata": {},
   "outputs": [],
   "source": [
    "loss=nn.MSELoss()"
   ]
  },
  {
   "cell_type": "markdown",
   "id": "c5a90686-5768-4de4-a735-523f13a09a8e",
   "metadata": {},
   "source": [
    "## 定义优化算法"
   ]
  },
  {
   "cell_type": "code",
   "execution_count": 8,
   "id": "59246bd0-a194-4b6c-8b70-83acd5b8a1c5",
   "metadata": {},
   "outputs": [],
   "source": [
    "## trainer 内部会保存 net.parameters() 返回的所有参数的引用。\n",
    "## 这些引用包含参数的当前值和 .grad 属性。\n",
    "trainer=torch.optim.SGD(net.parameters(), lr=0.03)"
   ]
  },
  {
   "cell_type": "markdown",
   "id": "17592632-0ad8-4f18-a358-7c7100636fa5",
   "metadata": {},
   "source": [
    "## 训练"
   ]
  },
  {
   "cell_type": "code",
   "execution_count": 9,
   "id": "86baf527-0053-4cd4-a907-b561f2276066",
   "metadata": {},
   "outputs": [],
   "source": [
    "num_epochs=5"
   ]
  },
  {
   "cell_type": "code",
   "execution_count": 10,
   "id": "89a97776-7818-428c-97ed-7707c1ad5866",
   "metadata": {},
   "outputs": [
    {
     "name": "stdout",
     "output_type": "stream",
     "text": [
      "epoch1, loss0.000387\n",
      "epoch2, loss0.000093\n",
      "epoch3, loss0.000093\n",
      "epoch4, loss0.000093\n",
      "epoch5, loss0.000094\n"
     ]
    }
   ],
   "source": [
    "for epoch in range(num_epochs): \n",
    "    for X, y in data_iter: \n",
    "        l=loss(net(X), y) \n",
    "        trainer.zero_grad() \n",
    "        l.backward() \n",
    "        trainer.step() \n",
    "    l=loss(net(features), labels)\n",
    "    print(f'epoch{epoch+1}, loss{l:f}')        \n",
    "    "
   ]
  },
  {
   "cell_type": "code",
   "execution_count": 11,
   "id": "e8383a90-6ae1-479f-9c55-338a1e399823",
   "metadata": {},
   "outputs": [
    {
     "name": "stdout",
     "output_type": "stream",
     "text": [
      "w的估计误差： tensor([ 0.0008, -0.0006])\n",
      "b的估计误差： tensor([6.0081e-05])\n"
     ]
    }
   ],
   "source": [
    "w = net[0].weight.data\n",
    "print('w的估计误差：', true_w - w.reshape(true_w.shape))\n",
    "b = net[0].bias.data\n",
    "print('b的估计误差：', true_b - b)"
   ]
  },
  {
   "cell_type": "code",
   "execution_count": null,
   "id": "31edc145-5a89-4d94-9ec1-b39a12bcd6de",
   "metadata": {},
   "outputs": [],
   "source": []
  }
 ],
 "metadata": {
  "kernelspec": {
   "display_name": "Python 3 (ipykernel)",
   "language": "python",
   "name": "python3"
  },
  "language_info": {
   "codemirror_mode": {
    "name": "ipython",
    "version": 3
   },
   "file_extension": ".py",
   "mimetype": "text/x-python",
   "name": "python",
   "nbconvert_exporter": "python",
   "pygments_lexer": "ipython3",
   "version": "3.12.4"
  }
 },
 "nbformat": 4,
 "nbformat_minor": 5
}
